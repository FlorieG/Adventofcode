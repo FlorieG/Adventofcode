{
 "cells": [
  {
   "cell_type": "markdown",
   "id": "244813a4-00c4-46b3-9ff1-1e581c4060c8",
   "metadata": {},
   "source": [
    "#Links\n",
    "\n",
    "## Day 1\n",
    "https://adventofcode.com/2024/day/1``\n"
   ]
  },
  {
   "cell_type": "markdown",
   "id": "6407e17f-e0dd-4738-b5e4-0e61d8e0085e",
   "metadata": {},
   "source": [
    "--- Day 1: Historian Hysteria ---\n",
    "\n",
    "The Chief Historian is always present for the big Christmas sleigh launch, but nobody has seen him in months! Last anyone heard, he was visiting locations that are historically significant to the North Pole; a group of Senior Historians has asked you to accompany them as they check the places they think he was most likely to visit.\n",
    "\n",
    "As each location is checked, they will mark it on their list with a star. They figure the Chief Historian must be in one of the first fifty places they'll look, so in order to save Christmas, you need to help them get fifty stars on their list before Santa takes off on December 25th.\n",
    "\n",
    "Collect stars by solving puzzles. Two puzzles will be made available on each day in the Advent calendar; the second puzzle is unlocked when you complete the first. Each puzzle grants one star. Good luck!\n",
    "\n",
    "You haven't even left yet and the group of Elvish Senior Historians has already hit a problem: their list of locations to check is currently empty. Eventually, someone decides that the best place to check first would be the Chief Historian's office.\n",
    "\n",
    "Upon pouring into the office, everyone confirms that the Chief Historian is indeed nowhere to be found. Instead, the Elves discover an assortment of notes and lists of historically significant locations! This seems to be the planning the Chief Historian was doing before he left. Perhaps these notes can be used to determine which locations to search?\n",
    "\n",
    "Throughout the Chief's office, the historically significant locations are listed not by name but by a unique number called the location ID. To make sure they don't miss anything, The Historians split into two groups, each searching the office and trying to create their own complete list of location IDs.\n",
    "\n",
    "There's just one problem: by holding the two lists up side by side (your puzzle input), it quickly becomes clear that the lists aren't very similar. Maybe you can help The Historians reconcile their lists?\n",
    "\n",
    "For example:\n",
    "\n",
    "3   4\n",
    "\n",
    "4   3\n",
    "\n",
    "2   5\n",
    "\n",
    "1   3\n",
    "\n",
    "3   9\n",
    "\n",
    "3   3\n",
    "\n",
    "\n",
    "Maybe the lists are only off by a small amount! To find out, pair up the numbers and measure how far apart they are. Pair up the smallest number in the left list with the smallest number in the right list, then the second-smallest left number with the second-smallest right number, and so on.\n",
    "\n",
    "Within each pair, figure out how far apart the two numbers are; you'll need to add up all of those distances. For example, if you pair up a 3 from the left list with a 7 from the right list, the distance apart is 4; if you pair up a 9 with a 3, the distance apart is 6.\n",
    "\n",
    "In the example list above, the pairs and distances would be as follows:\n",
    "\n",
    "- The smallest number in the left list is 1, and the smallest number in the right list is 3. The distance between them is 2.\n",
    "- The second-smallest number in the left list is 2, and the second-smallest number in the right list is another 3. The distance between them is 1.\n",
    "- The third-smallest number in both lists is 3, so the distance between them is 0.\n",
    "- The next numbers to pair up are 3 and 4, a distance of 1.\n",
    "- The fifth-smallest numbers in each list are 3 and 5, a distance of 2.\n",
    "- Finally, the largest number in the left list is 4, while the largest number in the right list is 9; these are a distance 5 apart.\n",
    "\n",
    "To find the total distance between the left list and the right list, add up the distances between all of the pairs you found. In the example above, this is 2 + 1 + 0 + 1 + 2 + 5, a total distance of 11!\n",
    "\n",
    "Your actual left and right lists contain many location IDs. What is the total distance between your lists?"
   ]
  },
  {
   "cell_type": "code",
   "execution_count": 1,
   "id": "2f53369b-4135-4335-98bd-fd63908cb802",
   "metadata": {
    "tags": []
   },
   "outputs": [],
   "source": [
    "#library :\n",
    "import pandas as pd\n",
    "import numpy as np\n",
    "import matplotlib.pyplot as plt\n",
    "import seaborn as sns\n",
    "\n",
    "%matplotlib inline"
   ]
  },
  {
   "cell_type": "code",
   "execution_count": 47,
   "id": "8c5086da-f7e8-4863-89f4-5e4bdb92bf43",
   "metadata": {
    "tags": []
   },
   "outputs": [],
   "source": [
    "#Fonctions borrowed :\n",
    "#https://labex.io/fr/tutorials/python-convert-number-to-digit-list-in-python-13623\n",
    "def digitize(n):\n",
    "  return pd.DataFrame(list(map(int, str(n))))"
   ]
  },
  {
   "cell_type": "code",
   "execution_count": 48,
   "id": "11eb4d54-2688-4c38-bbbc-cdcb59481818",
   "metadata": {},
   "outputs": [],
   "source": [
    "#1 download list\n",
    "list_ID = pd.read_table(\"input_d01.txt\", header=None, names=['colA', 'colB'], sep=r\"\\s+\")\n",
    "\n"
   ]
  },
  {
   "cell_type": "code",
   "execution_count": 49,
   "id": "66301cc8-ab8d-49ed-b1c5-d699b0727912",
   "metadata": {
    "tags": []
   },
   "outputs": [
    {
     "data": {
      "text/html": [
       "<div>\n",
       "<style scoped>\n",
       "    .dataframe tbody tr th:only-of-type {\n",
       "        vertical-align: middle;\n",
       "    }\n",
       "\n",
       "    .dataframe tbody tr th {\n",
       "        vertical-align: top;\n",
       "    }\n",
       "\n",
       "    .dataframe thead th {\n",
       "        text-align: right;\n",
       "    }\n",
       "</style>\n",
       "<table border=\"1\" class=\"dataframe\">\n",
       "  <thead>\n",
       "    <tr style=\"text-align: right;\">\n",
       "      <th></th>\n",
       "      <th>colA</th>\n",
       "      <th>colB</th>\n",
       "    </tr>\n",
       "  </thead>\n",
       "  <tbody>\n",
       "    <tr>\n",
       "      <th>0</th>\n",
       "      <td>53906</td>\n",
       "      <td>14872</td>\n",
       "    </tr>\n",
       "    <tr>\n",
       "      <th>1</th>\n",
       "      <td>35867</td>\n",
       "      <td>86182</td>\n",
       "    </tr>\n",
       "    <tr>\n",
       "      <th>2</th>\n",
       "      <td>61313</td>\n",
       "      <td>43656</td>\n",
       "    </tr>\n",
       "    <tr>\n",
       "      <th>3</th>\n",
       "      <td>23620</td>\n",
       "      <td>85315</td>\n",
       "    </tr>\n",
       "    <tr>\n",
       "      <th>4</th>\n",
       "      <td>96434</td>\n",
       "      <td>90834</td>\n",
       "    </tr>\n",
       "  </tbody>\n",
       "</table>\n",
       "</div>"
      ],
      "text/plain": [
       "    colA   colB\n",
       "0  53906  14872\n",
       "1  35867  86182\n",
       "2  61313  43656\n",
       "3  23620  85315\n",
       "4  96434  90834"
      ]
     },
     "execution_count": 49,
     "metadata": {},
     "output_type": "execute_result"
    }
   ],
   "source": [
    "list_ID.head()"
   ]
  },
  {
   "cell_type": "code",
   "execution_count": 50,
   "id": "a04b334a-b151-4d5b-96b0-9e181493da91",
   "metadata": {
    "tags": []
   },
   "outputs": [
    {
     "data": {
      "text/plain": [
       "(1000, 2)"
      ]
     },
     "execution_count": 50,
     "metadata": {},
     "output_type": "execute_result"
    }
   ],
   "source": [
    "list_ID.shape"
   ]
  },
  {
   "cell_type": "code",
   "execution_count": 51,
   "id": "12f647ca-c848-489d-9606-dd2492c3f0fb",
   "metadata": {
    "tags": []
   },
   "outputs": [
    {
     "data": {
      "text/plain": [
       "colA    53906\n",
       "colB    14872\n",
       "Name: 0, dtype: int64"
      ]
     },
     "execution_count": 51,
     "metadata": {},
     "output_type": "execute_result"
    }
   ],
   "source": [
    "list_ID.iloc[0]"
   ]
  },
  {
   "cell_type": "code",
   "execution_count": 52,
   "id": "10ef9cb6-830c-42a4-b2fc-cb541deaa7d5",
   "metadata": {
    "tags": []
   },
   "outputs": [],
   "source": [
    "x = list_ID.iloc[0]"
   ]
  },
  {
   "cell_type": "code",
   "execution_count": 53,
   "id": "53922295-7c12-4bec-a90d-0c2e55f42fae",
   "metadata": {
    "tags": []
   },
   "outputs": [
    {
     "data": {
      "text/plain": [
       "53906"
      ]
     },
     "execution_count": 53,
     "metadata": {},
     "output_type": "execute_result"
    }
   ],
   "source": [
    "x[0]"
   ]
  },
  {
   "cell_type": "code",
   "execution_count": 73,
   "id": "37f2771a-db01-452b-8975-26ab36f5e948",
   "metadata": {
    "tags": []
   },
   "outputs": [
    {
     "data": {
      "text/html": [
       "<div>\n",
       "<style scoped>\n",
       "    .dataframe tbody tr th:only-of-type {\n",
       "        vertical-align: middle;\n",
       "    }\n",
       "\n",
       "    .dataframe tbody tr th {\n",
       "        vertical-align: top;\n",
       "    }\n",
       "\n",
       "    .dataframe thead th {\n",
       "        text-align: right;\n",
       "    }\n",
       "</style>\n",
       "<table border=\"1\" class=\"dataframe\">\n",
       "  <thead>\n",
       "    <tr style=\"text-align: right;\">\n",
       "      <th></th>\n",
       "      <th>0</th>\n",
       "    </tr>\n",
       "  </thead>\n",
       "  <tbody>\n",
       "    <tr>\n",
       "      <th>0</th>\n",
       "      <td>5</td>\n",
       "    </tr>\n",
       "    <tr>\n",
       "      <th>1</th>\n",
       "      <td>3</td>\n",
       "    </tr>\n",
       "    <tr>\n",
       "      <th>2</th>\n",
       "      <td>9</td>\n",
       "    </tr>\n",
       "    <tr>\n",
       "      <th>3</th>\n",
       "      <td>0</td>\n",
       "    </tr>\n",
       "    <tr>\n",
       "      <th>4</th>\n",
       "      <td>6</td>\n",
       "    </tr>\n",
       "  </tbody>\n",
       "</table>\n",
       "</div>"
      ],
      "text/plain": [
       "   0\n",
       "0  5\n",
       "1  3\n",
       "2  9\n",
       "3  0\n",
       "4  6"
      ]
     },
     "execution_count": 73,
     "metadata": {},
     "output_type": "execute_result"
    }
   ],
   "source": [
    "digitize(x[0])"
   ]
  },
  {
   "cell_type": "code",
   "execution_count": 77,
   "id": "6165a522-1734-48b7-9cd8-e95f0fb3e2c0",
   "metadata": {
    "tags": []
   },
   "outputs": [
    {
     "data": {
      "text/plain": [
       "[0, 3, 5, 6, 9]"
      ]
     },
     "execution_count": 77,
     "metadata": {},
     "output_type": "execute_result"
    }
   ],
   "source": [
    "list1 = sorted(digitize(x[0])[0])\n",
    "list1"
   ]
  },
  {
   "cell_type": "code",
   "execution_count": 78,
   "id": "44fc6585-15dd-4cbf-8239-7f73d2afffc6",
   "metadata": {
    "tags": []
   },
   "outputs": [
    {
     "data": {
      "text/plain": [
       "[1, 2, 4, 7, 8]"
      ]
     },
     "execution_count": 78,
     "metadata": {},
     "output_type": "execute_result"
    }
   ],
   "source": [
    "list2 =  sorted(digitize(x[1])[0])\n",
    "list2"
   ]
  },
  {
   "cell_type": "code",
   "execution_count": 80,
   "id": "68dc1b6b-ad7e-47ba-b315-78b9b4ed6b72",
   "metadata": {
    "tags": []
   },
   "outputs": [
    {
     "data": {
      "text/plain": [
       "[1, 1, 1, 1, 1]"
      ]
     },
     "execution_count": 80,
     "metadata": {},
     "output_type": "execute_result"
    }
   ],
   "source": [
    "diff = [abs(a - b) for a, b in zip(list1, list2)]\n",
    "diff"
   ]
  },
  {
   "cell_type": "code",
   "execution_count": 81,
   "id": "7c0317e0-ba82-4c46-9e44-14656b3855bc",
   "metadata": {
    "tags": []
   },
   "outputs": [
    {
     "data": {
      "text/plain": [
       "5"
      ]
     },
     "execution_count": 81,
     "metadata": {},
     "output_type": "execute_result"
    }
   ],
   "source": [
    "sum(diff)"
   ]
  },
  {
   "cell_type": "code",
   "execution_count": 89,
   "id": "8bf7c117-f801-4449-a48e-34ae65cd19b3",
   "metadata": {
    "tags": []
   },
   "outputs": [],
   "source": [
    "#2 distance function between 2 numbers\n",
    "def distance_btw_ID(x):\n",
    "    #x is a list of 2 group of numbers\n",
    "    # First we sort them\n",
    "    list1 = sorted(digitize(x[0])[0])\n",
    "    list2 =  sorted(digitize(x[1])[0])\n",
    "    \n",
    "    #Them we do the diff betweeneach paar of element\n",
    "    diff = [abs(a - b) for a, b in zip(list1, list2)]\n",
    "    \n",
    "    return sum(diff)\n",
    "   \n",
    "    \n",
    "    \n",
    "    \n"
   ]
  },
  {
   "cell_type": "code",
   "execution_count": 90,
   "id": "e2eba037-3170-406c-b45a-a3a9fa29d594",
   "metadata": {
    "tags": []
   },
   "outputs": [
    {
     "data": {
      "text/plain": [
       "5"
      ]
     },
     "execution_count": 90,
     "metadata": {},
     "output_type": "execute_result"
    }
   ],
   "source": [
    "distance_btw_ID(x)"
   ]
  },
  {
   "cell_type": "code",
   "execution_count": 93,
   "id": "a5018173-8420-4a08-8ef5-937504d52947",
   "metadata": {
    "tags": []
   },
   "outputs": [],
   "source": [
    "res_list = []\n",
    "for i in range(list_ID.shape[0]):\n",
    "        x = list_ID.iloc[i]\n",
    "        res =  distance_btw_ID(x)\n",
    "        res_list.append(res)\n",
    "        \n"
   ]
  },
  {
   "cell_type": "code",
   "execution_count": 97,
   "id": "6403d107-d0e4-4eaf-bd6f-300f01583bd4",
   "metadata": {
    "tags": []
   },
   "outputs": [
    {
     "data": {
      "text/plain": [
       "[5, 6, 10, 9, 6, 6]"
      ]
     },
     "execution_count": 97,
     "metadata": {},
     "output_type": "execute_result"
    }
   ],
   "source": [
    "res_list[0:6]"
   ]
  },
  {
   "cell_type": "code",
   "execution_count": 95,
   "id": "2c17c75c-ea1d-4fda-bad2-350d87ea4ded",
   "metadata": {
    "tags": []
   },
   "outputs": [
    {
     "data": {
      "text/plain": [
       "9189"
      ]
     },
     "execution_count": 95,
     "metadata": {},
     "output_type": "execute_result"
    }
   ],
   "source": [
    "sum(res_list)"
   ]
  },
  {
   "cell_type": "code",
   "execution_count": 98,
   "id": "91596f11-b2ce-472c-a44c-f86b3182e5ae",
   "metadata": {
    "tags": []
   },
   "outputs": [],
   "source": [
    "# Wrong  !\n",
    "#Il faut comparer les colA et B pas chaque élément de chaque colonnes"
   ]
  },
  {
   "cell_type": "code",
   "execution_count": 101,
   "id": "196ff387-8c7d-4765-8fcf-6142d64f4034",
   "metadata": {
    "tags": []
   },
   "outputs": [],
   "source": [
    "#2 distance function between 2 numbers\n",
    "def distance_btw_ID(x):\n",
    "    #x is a list of 2 group of numbers\n",
    "    # First we sort them\n",
    "    list1 = sorted(x['colA'])\n",
    "    list2 =  sorted(x['colB'])\n",
    "    \n",
    "    #Them we do the diff betweeneach paar of element\n",
    "    diff = [abs(a - b) for a, b in zip(list1, list2)]\n",
    "    \n",
    "    return sum(diff)"
   ]
  },
  {
   "cell_type": "code",
   "execution_count": 102,
   "id": "0db74965-618b-46c2-9ddc-721a67a42116",
   "metadata": {
    "tags": []
   },
   "outputs": [
    {
     "data": {
      "text/plain": [
       "1873376"
      ]
     },
     "execution_count": 102,
     "metadata": {},
     "output_type": "execute_result"
    }
   ],
   "source": [
    "distance_btw_ID(list_ID) #1873376 is the good result"
   ]
  },
  {
   "cell_type": "code",
   "execution_count": null,
   "id": "949b3cef-2a73-4d1c-adf4-994bf232aedf",
   "metadata": {},
   "outputs": [],
   "source": []
  }
 ],
 "metadata": {
  "kernelspec": {
   "display_name": "Python 3 (ipykernel)",
   "language": "python",
   "name": "python3"
  },
  "language_info": {
   "codemirror_mode": {
    "name": "ipython",
    "version": 3
   },
   "file_extension": ".py",
   "mimetype": "text/x-python",
   "name": "python",
   "nbconvert_exporter": "python",
   "pygments_lexer": "ipython3",
   "version": "3.11.3"
  }
 },
 "nbformat": 4,
 "nbformat_minor": 5
}
